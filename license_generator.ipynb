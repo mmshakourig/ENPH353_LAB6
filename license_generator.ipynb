{
  "cells": [
    {
      "cell_type": "code",
      "execution_count": 2,
      "metadata": {
        "id": "i6RTCDKv1uUN"
      },
      "outputs": [],
      "source": [
        "import string\n",
        "import random\n",
        "from random import randint\n",
        "import cv2\n",
        "import matplotlib.pyplot as plt\n",
        "import numpy as np\n",
        "import os\n",
        "from PIL import Image, ImageFont, ImageDraw"
      ]
    },
    {
      "cell_type": "code",
      "execution_count": 3,
      "metadata": {
        "id": "ENidRuKm14S_"
      },
      "outputs": [],
      "source": [
        "# Run this command only once:\n",
        "\n",
        "# makes the output folder /content/pictures/\n",
        "!mkdir pictures"
      ]
    },
    {
      "cell_type": "code",
      "execution_count": 4,
      "metadata": {
        "id": "4kh3ZKFb1U1F"
      },
      "outputs": [],
      "source": [
        "path = \"C:/MohammadMahdi/University/Third Yr/ENPH 353/Labs/ENPH353_LAB6/\"\n",
        "\n"
      ]
    },
    {
      "cell_type": "code",
      "execution_count": 5,
      "metadata": {},
      "outputs": [],
      "source": [
        "def createPlate(show=False):\n",
        "\n",
        "    # Pick two random letters\n",
        "    plate_alpha = \"\"\n",
        "    for _ in range(0, 2):\n",
        "        plate_alpha += (random.choice(string.ascii_uppercase))\n",
        "\n",
        "    # Pick two random numbers\n",
        "    num = randint(0, 99)\n",
        "    plate_num = \"{:02d}\".format(num)\n",
        "\n",
        "    # Write plate to image\n",
        "    blank_plate = cv2.imread(path + 'plates/blank_plate.png')\n",
        "    # plt.imshow(blank_plate)\n",
        "    # Convert into a PIL image (this is so we can use the monospaced fonts)\n",
        "\n",
        "    blank_plate_pil = Image.fromarray(blank_plate)\n",
        "\n",
        "    # Get a drawing context\n",
        "    draw = ImageDraw.Draw(blank_plate_pil)\n",
        "    monospace = ImageFont.truetype(font= (path + 'fonts/' + 'LiberationMono-Regular.ttf'),\n",
        "                                    size=165)\n",
        "    draw.text(xy=(48, 75),\n",
        "                text=plate_alpha + \" \" + plate_num,\n",
        "                fill=(255,0,0), font=monospace)\n",
        "\n",
        "    # Convert back to OpenCV image and save\n",
        "    blank_plate = np.array(blank_plate_pil)\n",
        "\n",
        "    # Write license plate to file\n",
        "    cv2.imwrite(os.path.join(path,\n",
        "                            \"plates/plate_{}{}.png\".format(plate_alpha, plate_num)),\n",
        "                            blank_plate)\n",
        "    \n",
        "    if show:\n",
        "        plt.imshow(blank_plate)\n",
        "        "
      ]
    },
    {
      "cell_type": "code",
      "execution_count": 6,
      "metadata": {
        "colab": {
          "base_uri": "https://localhost:8080/"
        },
        "id": "twDd8RNJtmAD",
        "outputId": "9da26742-873f-4b0b-846a-821dfbbec1c9"
      },
      "outputs": [],
      "source": [
        "for i in range(0, 100):\n",
        "    createPlate(show=False)"
      ]
    },
    {
      "cell_type": "code",
      "execution_count": null,
      "metadata": {
        "id": "Uz0wwzOPHV58"
      },
      "outputs": [],
      "source": []
    },
    {
      "cell_type": "code",
      "execution_count": null,
      "metadata": {},
      "outputs": [],
      "source": []
    }
  ],
  "metadata": {
    "colab": {
      "provenance": []
    },
    "kernelspec": {
      "display_name": "Python 3",
      "name": "python3"
    },
    "language_info": {
      "codemirror_mode": {
        "name": "ipython",
        "version": 3
      },
      "file_extension": ".py",
      "mimetype": "text/x-python",
      "name": "python",
      "nbconvert_exporter": "python",
      "pygments_lexer": "ipython3",
      "version": "3.11.3"
    }
  },
  "nbformat": 4,
  "nbformat_minor": 0
}
