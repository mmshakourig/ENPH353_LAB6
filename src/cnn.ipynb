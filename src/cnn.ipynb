{
 "cells": [
  {
   "cell_type": "code",
   "execution_count": 2,
   "metadata": {},
   "outputs": [],
   "source": [
    "import numpy as np\n",
    "import os\n",
    "os.chdir('C:/MohammadMahdi/University/Third Yr/ENPH 353/Labs/ENPH353_LAB6/')\n",
    "from src import dataOrganizer as org\n",
    "from matplotlib import pyplot as plt\n",
    "\n",
    "import tensorflow as tf\n",
    "from tensorflow import keras as ks"
   ]
  },
  {
   "cell_type": "code",
   "execution_count": 3,
   "metadata": {},
   "outputs": [
    {
     "name": "stdout",
     "output_type": "stream",
     "text": [
      "Num GPUs Available:  0\n"
     ]
    }
   ],
   "source": [
    "device = tf.config.list_physical_devices('GPU')\n",
    "print(\"Num GPUs Available: \", len(device))"
   ]
  },
  {
   "cell_type": "code",
   "execution_count": 4,
   "metadata": {},
   "outputs": [],
   "source": [
    "# Load the dataset\n",
    "source_dir = \"C:/MohammadMahdi/University/Third Yr/ENPH 353/Labs/ENPH353_LAB6/plates/\"\n",
    "data_dir = \"C:/MohammadMahdi/University/Third Yr/ENPH 353/Labs/ENPH353_LAB6/data/\""
   ]
  },
  {
   "cell_type": "code",
   "execution_count": 5,
   "metadata": {},
   "outputs": [
    {
     "name": "stdout",
     "output_type": "stream",
     "text": [
      "Organizing...\n",
      "Done!\n"
     ]
    },
    {
     "data": {
      "text/plain": [
       "True"
      ]
     },
     "execution_count": 5,
     "metadata": {},
     "output_type": "execute_result"
    }
   ],
   "source": [
    "dataorg = org.DataOrganizer(source_dir, data_dir)\n",
    "dataorg.organize()"
   ]
  },
  {
   "cell_type": "code",
   "execution_count": 5,
   "metadata": {},
   "outputs": [
    {
     "name": "stdout",
     "output_type": "stream",
     "text": [
      "Found 1204 files belonging to 36 classes.\n",
      "Using 964 files for training.\n",
      "Found 1204 files belonging to 36 classes.\n",
      "Using 240 files for validation.\n"
     ]
    }
   ],
   "source": [
    "train_ds = tf.keras.utils.image_dataset_from_directory(\n",
    "    data_dir,\n",
    "    validation_split=0.2,\n",
    "    subset=\"training\",\n",
    "    seed=123,\n",
    "    image_size=(160, 150),\n",
    "    batch_size=10)\n",
    "\n",
    "val_ds = tf.keras.utils.image_dataset_from_directory(\n",
    "    data_dir,\n",
    "    validation_split=0.2,\n",
    "    subset=\"validation\",\n",
    "    seed=123,\n",
    "    image_size=(160, 150),\n",
    "    batch_size=10)\n"
   ]
  },
  {
   "cell_type": "code",
   "execution_count": 6,
   "metadata": {},
   "outputs": [
    {
     "name": "stdout",
     "output_type": "stream",
     "text": [
      "32\n"
     ]
    },
    {
     "data": {
      "text/plain": [
       "array([0, 0, 0], dtype=uint8)"
      ]
     },
     "execution_count": 6,
     "metadata": {},
     "output_type": "execute_result"
    },
    {
     "data": {
      "image/png": "[encoded data removed]",
      "text/plain": [
       "<Figure size 640x480 with 1 Axes>"
      ]
     },
     "metadata": {},
     "output_type": "display_data"
    }
   ],
   "source": [
    "imgs, lbls = next(iter(train_ds))\n",
    "plt.imshow(imgs[5].numpy().astype(\"uint8\"), cmap=\"gray\")\n",
    "print(lbls[9].numpy())\n",
    "imgs[5].numpy().astype(\"uint8\")[100, 100]"
   ]
  },
  {
   "cell_type": "code",
   "execution_count": 7,
   "metadata": {},
   "outputs": [
    {
     "name": "stdout",
     "output_type": "stream",
     "text": [
      "Model: \"sequential\"\n",
      "_________________________________________________________________\n",
      " Layer (type)                Output Shape              Param #   \n",
      "=================================================================\n",
      " conv2d (Conv2D)             (None, 160, 150, 32)      896       \n",
      "                                                                 \n",
      " max_pooling2d (MaxPooling2  (None, 80, 75, 32)        0         \n",
      " D)                                                              \n",
      "                                                                 \n",
      " conv2d_1 (Conv2D)           (None, 80, 75, 64)        18496     \n",
      "                                                                 \n",
      " max_pooling2d_1 (MaxPoolin  (None, 40, 37, 64)        0         \n",
      " g2D)                                                            \n",
      "                                                                 \n",
      " conv2d_2 (Conv2D)           (None, 40, 37, 64)        36928     \n",
      "                                                                 \n",
      " max_pooling2d_2 (MaxPoolin  (None, 20, 18, 64)        0         \n",
      " g2D)                                                            \n",
      "                                                                 \n",
      " flatten (Flatten)           (None, 23040)             0         \n",
      "                                                                 \n",
      " dense (Dense)               (None, 64)                1474624   \n",
      "                                                                 \n",
      " dense_1 (Dense)             (None, 36)                2340      \n",
      "                                                                 \n",
      "=================================================================\n",
      "Total params: 1533284 (5.85 MB)\n",
      "Trainable params: 1533284 (5.85 MB)\n",
      "Non-trainable params: 0 (0.00 Byte)\n",
      "_________________________________________________________________\n"
     ]
    }
   ],
   "source": [
    "# creating a CNN model\n",
    "cnn_model = ks.models.Sequential([\n",
    "    ks.layers.Conv2D(32, (3, 3), activation='relu', input_shape=(160, 150, 3), padding='same'),\n",
    "    ks.layers.MaxPooling2D((2, 2), strides=2, padding='valid'),\n",
    "    ks.layers.Conv2D(64, (3, 3), activation='relu', padding='same'),\n",
    "    ks.layers.MaxPooling2D((2, 2), strides=2, padding='valid'),\n",
    "    ks.layers.Conv2D(64, (3, 3), activation='relu', padding='same'),\n",
    "    ks.layers.MaxPooling2D((2, 2), strides=2, padding='valid'),\n",
    "    # ks.layers.Conv2D(128, (3, 3), activation='relu'),\n",
    "    # ks.layers.MaxPooling2D((2, 2), strides=2, padding='valid'),\n",
    "    ks.layers.Flatten(),\n",
    "    ks.layers.Dense(64, activation='relu'),\n",
    "    ks.layers.Dense(36, activation='softmax')\n",
    "])\n",
    "\n",
    "cnn_model.summary()"
   ]
  },
  {
   "cell_type": "code",
   "execution_count": 8,
   "metadata": {},
   "outputs": [],
   "source": [
    "cnn_model.compile(optimizer='adam', loss='sparse_categorical_crossentropy', metrics=['accuracy'])"
   ]
  },
  {
   "cell_type": "code",
   "execution_count": 9,
   "metadata": {},
   "outputs": [
    {
     "name": "stdout",
     "output_type": "stream",
     "text": [
      "Epoch 1/10\n"
     ]
    },
    {
     "name": "stdout",
     "output_type": "stream",
     "text": [
      "97/97 - 17s - loss: 12.6029 - accuracy: 0.6857 - val_loss: 0.0517 - val_accuracy: 0.9583 - 17s/epoch - 173ms/step\n",
      "Epoch 2/10\n",
      "97/97 - 32s - loss: 0.0091 - accuracy: 0.9969 - val_loss: 4.3009e-04 - val_accuracy: 1.0000 - 32s/epoch - 325ms/step\n",
      "Epoch 3/10\n",
      "97/97 - 30s - loss: 2.0463e-04 - accuracy: 1.0000 - val_loss: 1.0467e-04 - val_accuracy: 1.0000 - 30s/epoch - 309ms/step\n",
      "Epoch 4/10\n",
      "97/97 - 27s - loss: 6.3275e-05 - accuracy: 1.0000 - val_loss: 4.4575e-05 - val_accuracy: 1.0000 - 27s/epoch - 279ms/step\n",
      "Epoch 5/10\n",
      "97/97 - 23s - loss: 2.6846e-05 - accuracy: 1.0000 - val_loss: 2.1010e-05 - val_accuracy: 1.0000 - 23s/epoch - 242ms/step\n",
      "Epoch 6/10\n",
      "97/97 - 23s - loss: 1.3570e-05 - accuracy: 1.0000 - val_loss: 1.1789e-05 - val_accuracy: 1.0000 - 23s/epoch - 236ms/step\n",
      "Epoch 7/10\n",
      "97/97 - 21s - loss: 7.8873e-06 - accuracy: 1.0000 - val_loss: 7.5581e-06 - val_accuracy: 1.0000 - 21s/epoch - 220ms/step\n",
      "Epoch 8/10\n",
      "97/97 - 22s - loss: 4.9941e-06 - accuracy: 1.0000 - val_loss: 4.9853e-06 - val_accuracy: 1.0000 - 22s/epoch - 227ms/step\n",
      "Epoch 9/10\n",
      "97/97 - 22s - loss: 3.3502e-06 - accuracy: 1.0000 - val_loss: 3.5613e-06 - val_accuracy: 1.0000 - 22s/epoch - 231ms/step\n",
      "Epoch 10/10\n",
      "97/97 - 22s - loss: 2.3217e-06 - accuracy: 1.0000 - val_loss: 2.6226e-06 - val_accuracy: 1.0000 - 22s/epoch - 223ms/step\n"
     ]
    },
    {
     "data": {
      "text/plain": [
       "<keras.src.callbacks.History at 0x2220175fed0>"
      ]
     },
     "execution_count": 9,
     "metadata": {},
     "output_type": "execute_result"
    }
   ],
   "source": [
    "cnn_model.fit(x=train_ds, validation_data=val_ds, epochs=10, verbose=2)"
   ]
  },
  {
   "cell_type": "code",
   "execution_count": 11,
   "metadata": {},
   "outputs": [],
   "source": [
    "os.chdir(source_dir)\n",
    "os.chdir('..')\n",
    "os.chdir('./models')\n",
    "cnn_model.save('cnn_model_sequential_1.keras')"
   ]
  }
 ],
 "metadata": {
  "kernelspec": {
   "display_name": "Python 3",
   "language": "python",
   "name": "python3"
  },
  "language_info": {
   "codemirror_mode": {
    "name": "ipython",
    "version": 3
   },
   "file_extension": ".py",
   "mimetype": "text/x-python",
   "name": "python",
   "nbconvert_exporter": "python",
   "pygments_lexer": "ipython3",
   "version": "3.11.3"
  }
 },
 "nbformat": 4,
 "nbformat_minor": 2
}
